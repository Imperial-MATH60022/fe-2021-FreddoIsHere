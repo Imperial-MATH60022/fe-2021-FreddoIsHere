{
 "cells": [
  {
   "cell_type": "code",
   "execution_count": null,
   "id": "literary-footwear",
   "metadata": {},
   "outputs": [],
   "source": [
    "import numpy as np\n",
    "from math import cos, sin, pi\n",
    "from fe_utils import *\n",
    "from fe_utils.finite_elements import VectorFiniteElement, LagrangeElement\n",
    "from fe_utils.reference_elements import ReferenceInterval, ReferenceTriangle"
   ]
  },
  {
   "cell_type": "code",
   "execution_count": null,
   "id": "exposed-chart",
   "metadata": {},
   "outputs": [],
   "source": [
    "phi_grad = np.ones(6*9*2).reshape(9, 6, 2)\n",
    "J = np.arange(4).reshape(2, 2)\n",
    "weights = np.arange(9)\n",
    "phi_grad, J"
   ]
  },
  {
   "cell_type": "code",
   "execution_count": null,
   "id": "statewide-tackle",
   "metadata": {},
   "outputs": [],
   "source": [
    "phi_grad @ phi_grad.swapaxes(1, 2)"
   ]
  },
  {
   "cell_type": "code",
   "execution_count": null,
   "id": "deadly-hampshire",
   "metadata": {},
   "outputs": [],
   "source": [
    "from fe_utils import *\n",
    "from math import sin, pi\n",
    "\n",
    "m = UnitSquareMesh(10, 10)\n",
    "\n",
    "fe = LagrangeElement(ReferenceTriangle, 2)\n",
    "\n",
    "fs = fs = FunctionSpace(m, fe)\n",
    "\n",
    "f = Function(fs)\n",
    "\n",
    "f.interpolate(lambda x: sin(2*pi*x[0])*sin(2*pi*x[1]))\n",
    "\n",
    "f.plot()"
   ]
  },
  {
   "cell_type": "code",
   "execution_count": null,
   "id": "atmospheric-feedback",
   "metadata": {},
   "outputs": [],
   "source": [
    "a = lambda x: (2*pi*(1 - cos(2*pi*x[0]))*sin(2*pi*x[1]),\n",
    "                         -2*pi*(1 - cos(2*pi*x[1]))*sin(2*pi*x[0]))\n",
    "b = lambda x: 2*pi*(1 - cos(2*pi*x[0]))*sin(2*pi*x[1])"
   ]
  },
  {
   "cell_type": "code",
   "execution_count": null,
   "id": "southeast-weapon",
   "metadata": {},
   "outputs": [],
   "source": [
    "a([0, 0.6])"
   ]
  },
  {
   "cell_type": "code",
   "execution_count": null,
   "id": "united-french",
   "metadata": {},
   "outputs": [],
   "source": [
    "a = np.array([1, 2])\n",
    "b = np.array([1, 1, 1])\n",
    "a.shape, b.shape"
   ]
  },
  {
   "cell_type": "code",
   "execution_count": null,
   "id": "decimal-spanking",
   "metadata": {},
   "outputs": [],
   "source": [
    "k = np.einsum(\"i, j->ij\", b, a)\n",
    "f = np.array([[1, 0], [0, 1], [1, 0]])\n",
    "k, f"
   ]
  },
  {
   "cell_type": "code",
   "execution_count": null,
   "id": "regular-paris",
   "metadata": {},
   "outputs": [],
   "source": [
    "np.einsum(\"ba, ca -> a\", k, f)"
   ]
  },
  {
   "cell_type": "code",
   "execution_count": null,
   "id": "pleasant-vulnerability",
   "metadata": {},
   "outputs": [],
   "source": [
    "np.sum(k*f, axis=1)"
   ]
  },
  {
   "cell_type": "code",
   "execution_count": 1,
   "id": "greatest-shape",
   "metadata": {},
   "outputs": [],
   "source": [
    "import numpy as np\n",
    "from math import cos, sin, pi\n",
    "from fe_utils import *\n",
    "from fe_utils.finite_elements import VectorFiniteElement, LagrangeElement\n",
    "from fe_utils.reference_elements import ReferenceInterval, ReferenceTriangle\n",
    "from fe_utils.solvers.mastery import assemble, solve_mastery\n"
   ]
  },
  {
   "cell_type": "code",
   "execution_count": 2,
   "id": "experimental-equilibrium",
   "metadata": {},
   "outputs": [
    {
     "name": "stdout",
     "output_type": "stream",
     "text": [
      "(12, 6, 2) (3, 2)\n",
      "(12,) (12, 2)\n",
      "(12, 6, 2) (3, 2)\n",
      "(12,) (12, 2)\n",
      "(12, 6, 2) (3, 2)\n",
      "(12,) (12, 2)\n",
      "(12, 6, 2) (3, 2)\n",
      "(12,) (12, 2)\n",
      "(12, 6, 2) (3, 2)\n",
      "(12,) (12, 2)\n",
      "(12, 6, 2) (3, 2)\n",
      "(12,) (12, 2)\n",
      "(12, 6, 2) (3, 2)\n",
      "(12,) (12, 2)\n",
      "(12, 6, 2) (3, 2)\n",
      "(12,) (12, 2)\n"
     ]
    }
   ],
   "source": [
    "mesh = UnitSquareMesh(2, 2)\n",
    "fe_p = LagrangeElement(mesh.cell, 1)\n",
    "fe_u = LagrangeElement(mesh.cell, 2)\n",
    "fe_u = VectorFiniteElement(fe_u)\n",
    "fs_p = FunctionSpace(mesh, fe_p)\n",
    "fs_u = FunctionSpace(mesh, fe_u)\n",
    "\n",
    "f = Function(fs_u)\n",
    "f.interpolate(lambda x: (2 * pi * (1 - cos(2 * pi * x[0])) * sin(2 * pi * x[1]),\n",
    "                         -2 * pi * (1 - cos(2 * pi * x[1])) * sin(2 * pi * x[0])))"
   ]
  },
  {
   "cell_type": "code",
   "execution_count": null,
   "id": "clear-stretch",
   "metadata": {},
   "outputs": [],
   "source": [
    "A, l = assemble(fs_u, fs_p, f)"
   ]
  },
  {
   "cell_type": "code",
   "execution_count": null,
   "id": "indonesian-internship",
   "metadata": {},
   "outputs": [],
   "source": [
    "a = np.ones(108).reshape((9, 6, 2))\n",
    "weights = np.arange(12).reshape(-1, 2)\n",
    "weights"
   ]
  },
  {
   "cell_type": "code",
   "execution_count": null,
   "id": "global-onion",
   "metadata": {},
   "outputs": [],
   "source": [
    "solve_mastery(2)"
   ]
  },
  {
   "cell_type": "code",
   "execution_count": 3,
   "id": "aerial-independence",
   "metadata": {},
   "outputs": [
    {
     "data": {
      "text/plain": [
       "array([[ 0,  0],\n",
       "       [ 1,  0],\n",
       "       [ 2,  0],\n",
       "       [ 3,  0],\n",
       "       [ 4,  0],\n",
       "       [ 5,  0],\n",
       "       [ 6,  0],\n",
       "       [ 7,  0],\n",
       "       [ 8,  0],\n",
       "       [ 9,  0],\n",
       "       [10,  0],\n",
       "       [11,  0]])"
      ]
     },
     "execution_count": 3,
     "metadata": {},
     "output_type": "execute_result"
    }
   ],
   "source": [
    "np.einsum(\"i, j->ij\", np.arange(12), np.array([1, 0]))"
   ]
  },
  {
   "cell_type": "code",
   "execution_count": null,
   "id": "cooked-focus",
   "metadata": {},
   "outputs": [],
   "source": []
  }
 ],
 "metadata": {
  "kernelspec": {
   "display_name": "Python 3",
   "language": "python",
   "name": "python3"
  },
  "language_info": {
   "codemirror_mode": {
    "name": "ipython",
    "version": 3
   },
   "file_extension": ".py",
   "mimetype": "text/x-python",
   "name": "python",
   "nbconvert_exporter": "python",
   "pygments_lexer": "ipython3",
   "version": "3.8.5"
  }
 },
 "nbformat": 4,
 "nbformat_minor": 5
}
