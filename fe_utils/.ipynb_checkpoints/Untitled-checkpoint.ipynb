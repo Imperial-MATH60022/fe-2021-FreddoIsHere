{
 "cells": [
  {
   "cell_type": "code",
   "execution_count": 6,
   "id": "amateur-tragedy",
   "metadata": {},
   "outputs": [],
   "source": [
    "from fe_utils.finite_elements import VectorFiniteElement\n",
    "from fe_utils.reference_elements import ReferenceInterval, ReferenceTriangle"
   ]
  },
  {
   "cell_type": "code",
   "execution_count": null,
   "id": "included-craps",
   "metadata": {},
   "outputs": [],
   "source": [
    "VectorFiniteElement()"
   ]
  }
 ],
 "metadata": {
  "kernelspec": {
   "display_name": "Python 3",
   "language": "python",
   "name": "python3"
  },
  "language_info": {
   "codemirror_mode": {
    "name": "ipython",
    "version": 3
   },
   "file_extension": ".py",
   "mimetype": "text/x-python",
   "name": "python",
   "nbconvert_exporter": "python",
   "pygments_lexer": "ipython3",
   "version": "3.8.5"
  }
 },
 "nbformat": 4,
 "nbformat_minor": 5
}
